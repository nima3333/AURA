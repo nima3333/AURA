{
 "cells": [
  {
   "cell_type": "code",
   "execution_count": 1,
   "metadata": {},
   "outputs": [
    {
     "data": {
      "text/plain": [
       "'3.8.2 (tags/v3.8.2:7b3ab59, Feb 25 2020, 23:03:10) [MSC v.1916 64 bit (AMD64)]'"
      ]
     },
     "execution_count": 1,
     "metadata": {},
     "output_type": "execute_result"
    }
   ],
   "source": [
    "import os, sys\n",
    "sys.version"
   ]
  },
  {
   "cell_type": "code",
   "execution_count": 2,
   "metadata": {},
   "outputs": [],
   "source": [
    "import numpy as np"
   ]
  },
  {
   "cell_type": "code",
   "execution_count": 3,
   "metadata": {},
   "outputs": [],
   "source": [
    "size = 3\n",
    "step = 2\n",
    "A = [A[i : i + size] for i in range(0, len(A), step)]"
   ]
  },
  {
   "cell_type": "code",
   "execution_count": 16,
   "metadata": {},
   "outputs": [],
   "source": [
    "def get_sliding_windows(array, size=3, step=2):\n",
    "    return [array[i : i + size] for i in range(0, len(array), step)]"
   ]
  },
  {
   "cell_type": "code",
   "execution_count": 19,
   "metadata": {},
   "outputs": [
    {
     "data": {
      "text/plain": [
       "[[1, 2, 3, 4, 5, 6, 7, 8, 9, 10],\n",
       " [3, 4, 5, 6, 7, 8, 9, 10],\n",
       " [5, 6, 7, 8, 9, 10],\n",
       " [7, 8, 9, 10],\n",
       " [9, 10]]"
      ]
     },
     "execution_count": 19,
     "metadata": {},
     "output_type": "execute_result"
    }
   ],
   "source": [
    "A = [1, 2, 3, 4, 5, 6, 7, 8, 9, 10]\n",
    "get_sliding_windows(A, 10)"
   ]
  },
  {
   "cell_type": "code",
   "execution_count": 20,
   "metadata": {},
   "outputs": [],
   "source": [
    "import wave\n",
    "import numpy\n",
    "import matplotlib.pyplot as plt\n",
    "import numpy as np\n",
    "from numpy.fft import fft, rfft\n",
    "from scipy.interpolate import interp1d\n",
    "from scipy.signal      import argrelextrema\n",
    "import glob, os, sys\n",
    "import scipy.signal as sg\n",
    "from scipy import signal\n",
    "from scipy.signal import minimum_phase\n",
    "from scipy.signal import hilbert, chirp\n",
    "from scipy.signal import find_peaks\n",
    "from scipy.interpolate import interp1d"
   ]
  },
  {
   "cell_type": "code",
   "execution_count": null,
   "metadata": {},
   "outputs": [],
   "source": [
    "ifile = wave.open()\n",
    "samples = 2*ifile.getnframes()\n",
    "frequency = ifile.getframerate()\n",
    "audio = ifile.readframes(samples)\n",
    "\n",
    "# Convert buffer to float32 using NumPy                                                                                 \n",
    "audio_as_np_int16 = numpy.frombuffer(audio, dtype=numpy.int16)\n",
    "audio_as_np_float32 = audio_as_np_int16.astype(numpy.float32)\n",
    "\n",
    "# Normalise float32 array so that values are between -1.0 and +1.0                                                      \n",
    "max_int16 = 2**15\n",
    "\n",
    "time = [i/frequency for i in range(samples)]\n",
    "audio_normalised = audio_as_np_float32 / max_int16\n",
    "audio_normalised = audio_normalised / max(audio_normalised)\n",
    "sos = signal.butter(30, 100, 'hp', fs=frequency, output='sos')\n",
    "audio_normalised = signal.sosfilt(sos, audio_normalised)\n",
    "\n",
    "plt.subplot(4, len(files), i+1)\n",
    "plt.plot(time, audio_normalised)\n",
    "plt.title('Audio signal')\n",
    "plt.ylabel('Amplitude')\n"
   ]
  }
 ],
 "metadata": {
  "kernelspec": {
   "display_name": "Python 3",
   "language": "python",
   "name": "python3"
  },
  "language_info": {
   "codemirror_mode": {
    "name": "ipython",
    "version": 3
   },
   "file_extension": ".py",
   "mimetype": "text/x-python",
   "name": "python",
   "nbconvert_exporter": "python",
   "pygments_lexer": "ipython3",
   "version": "3.8.2"
  }
 },
 "nbformat": 4,
 "nbformat_minor": 4
}
